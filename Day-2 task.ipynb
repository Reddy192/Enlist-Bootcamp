{
 "cells": [
  {
   "cell_type": "code",
   "execution_count": 1,
   "id": "96b4fc75",
   "metadata": {},
   "outputs": [
    {
     "name": "stdout",
     "output_type": "stream",
     "text": [
      "30 days 30 hours challenge\n",
      "30 days 30 hours challenge\n"
     ]
    }
   ],
   "source": [
    "# 30 days bootcamp\n",
    "# Day-2\n",
    "print(\"30 days 30 hours challenge\")\n",
    "print('30 days 30 hours challenge')"
   ]
  },
  {
   "cell_type": "code",
   "execution_count": 2,
   "id": "e0a177f1",
   "metadata": {},
   "outputs": [
    {
     "name": "stdout",
     "output_type": "stream",
     "text": [
      "reddy\n"
     ]
    }
   ],
   "source": [
    "# assigning string to variable\n",
    "name = \"reddy\"\n",
    "print(name)"
   ]
  },
  {
   "cell_type": "code",
   "execution_count": 3,
   "id": "e60ae41f",
   "metadata": {},
   "outputs": [
    {
     "name": "stdout",
     "output_type": "stream",
     "text": [
      " \n"
     ]
    }
   ],
   "source": [
    "# index using string\n",
    "days = \"Thirty Days\"\n",
    "print(days[6])"
   ]
  },
  {
   "cell_type": "code",
   "execution_count": 4,
   "id": "256c490b",
   "metadata": {},
   "outputs": [
    {
     "name": "stdout",
     "output_type": "stream",
     "text": [
      "D\n"
     ]
    }
   ],
   "source": [
    "print(days[7])"
   ]
  },
  {
   "cell_type": "code",
   "execution_count": 5,
   "id": "62aca5ca",
   "metadata": {},
   "outputs": [
    {
     "name": "stdout",
     "output_type": "stream",
     "text": [
      "volley\n"
     ]
    }
   ],
   "source": [
    "# print particular character\n",
    "game = \"volley ball\"\n",
    "print(game[0:6])"
   ]
  },
  {
   "cell_type": "code",
   "execution_count": 6,
   "id": "ac68c929",
   "metadata": {},
   "outputs": [
    {
     "name": "stdout",
     "output_type": "stream",
     "text": [
      "11\n"
     ]
    }
   ],
   "source": [
    "# length\n",
    "print(len(game))"
   ]
  },
  {
   "cell_type": "code",
   "execution_count": 7,
   "id": "4d0b320c",
   "metadata": {},
   "outputs": [
    {
     "name": "stdout",
     "output_type": "stream",
     "text": [
      "VOLLEY BALL\n"
     ]
    }
   ],
   "source": [
    "# case conversion\n",
    "print(game.upper())"
   ]
  },
  {
   "cell_type": "code",
   "execution_count": 11,
   "id": "17cf5b40",
   "metadata": {},
   "outputs": [
    {
     "name": "stdout",
     "output_type": "stream",
     "text": [
      "sumanthreddy\n"
     ]
    }
   ],
   "source": [
    "# string concatination\n",
    "a = \"sumanth\"\n",
    "b = \"reddy\"\n",
    "c = a + b\n",
    "print(c)"
   ]
  },
  {
   "cell_type": "code",
   "execution_count": 10,
   "id": "4c06f53e",
   "metadata": {},
   "outputs": [
    {
     "name": "stdout",
     "output_type": "stream",
     "text": [
      " sumanth  reddy \n"
     ]
    }
   ],
   "source": [
    "c = a + \"\" + b\n",
    "print(c)"
   ]
  },
  {
   "cell_type": "code",
   "execution_count": 15,
   "id": "d3419a31",
   "metadata": {},
   "outputs": [
    {
     "name": "stdout",
     "output_type": "stream",
     "text": [
      "CHICKEN BIRYANI\n"
     ]
    }
   ],
   "source": [
    "food = \"Chicken Biryani\"\n",
    "s = food.upper()\n",
    "print(s)"
   ]
  },
  {
   "cell_type": "code",
   "execution_count": 19,
   "id": "b5f9f3af",
   "metadata": {},
   "outputs": [
    {
     "name": "stdout",
     "output_type": "stream",
     "text": [
      "4\n"
     ]
    }
   ],
   "source": [
    "print(food.find('k'))"
   ]
  },
  {
   "cell_type": "code",
   "execution_count": 24,
   "id": "483c8287",
   "metadata": {},
   "outputs": [
    {
     "name": "stdout",
     "output_type": "stream",
     "text": [
      "False\n"
     ]
    }
   ],
   "source": [
    "print(food.isalpha())"
   ]
  },
  {
   "cell_type": "code",
   "execution_count": 22,
   "id": "8471a950",
   "metadata": {},
   "outputs": [
    {
     "name": "stdout",
     "output_type": "stream",
     "text": [
      "False\n"
     ]
    }
   ],
   "source": [
    "print(food.isalnum())"
   ]
  },
  {
   "cell_type": "code",
   "execution_count": null,
   "id": "8120d0c5",
   "metadata": {},
   "outputs": [],
   "source": []
  }
 ],
 "metadata": {
  "kernelspec": {
   "display_name": "Python 3",
   "language": "python",
   "name": "python3"
  },
  "language_info": {
   "codemirror_mode": {
    "name": "ipython",
    "version": 3
   },
   "file_extension": ".py",
   "mimetype": "text/x-python",
   "name": "python",
   "nbconvert_exporter": "python",
   "pygments_lexer": "ipython3",
   "version": "3.7.3"
  }
 },
 "nbformat": 4,
 "nbformat_minor": 5
}
